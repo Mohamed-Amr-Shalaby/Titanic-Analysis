{
 "cells": [
  {
   "cell_type": "markdown",
   "metadata": {},
   "source": [
    "# Imports"
   ]
  },
  {
   "cell_type": "code",
   "execution_count": 32,
   "metadata": {},
   "outputs": [],
   "source": [
    "import torch\n",
    "import os"
   ]
  },
  {
   "cell_type": "markdown",
   "metadata": {},
   "source": [
    "# Read Data"
   ]
  },
  {
   "cell_type": "code",
   "execution_count": 33,
   "metadata": {},
   "outputs": [
    {
     "name": "stdout",
     "output_type": "stream",
     "text": [
      "['emma', 'olivia', 'ava', 'isabella', 'sophia']\n"
     ]
    }
   ],
   "source": [
    "named_data_path = os.path.join(\"data\", \"names.txt\")\n",
    "\n",
    "names = []\n",
    "with open(named_data_path, \"r\") as f:\n",
    "    for line in f:\n",
    "        names.append(line.strip())\n",
    "        \n",
    "print(names[:5])"
   ]
  },
  {
   "cell_type": "markdown",
   "metadata": {},
   "source": [
    "# Bigram count"
   ]
  },
  {
   "cell_type": "code",
   "execution_count": 34,
   "metadata": {},
   "outputs": [],
   "source": [
    "names = [name + \".\" for name in names]"
   ]
  },
  {
   "cell_type": "code",
   "execution_count": 35,
   "metadata": {},
   "outputs": [],
   "source": [
    "\n",
    "bigrams = {}\n",
    "for name in names:\n",
    "    for idx in range(len(name) - 1):\n",
    "        # if bigrams.get((name[idx], name[idx + 1])) is None:\n",
    "        #    bigrams[(name[idx], name[idx + 1])] = 1\n",
    "        # else:\n",
    "        #   bigrams[(name[idx], name[idx + 1])] += 1\n",
    "\n",
    "        bigrams[(name[idx], name[idx + 1])] = bigrams.get((name[idx], name[idx + 1]), 0) + 1"
   ]
  },
  {
   "cell_type": "code",
   "execution_count": 36,
   "metadata": {},
   "outputs": [
    {
     "data": {
      "text/plain": [
       "[(('n', '.'), 6763),\n",
       " (('a', '.'), 6640),\n",
       " (('a', 'n'), 5438),\n",
       " (('e', '.'), 3983),\n",
       " (('a', 'r'), 3264)]"
      ]
     },
     "execution_count": 36,
     "metadata": {},
     "output_type": "execute_result"
    }
   ],
   "source": [
    "sorted(bigrams.items(), key=lambda x: -x[1])[:5]"
   ]
  },
  {
   "cell_type": "code",
   "execution_count": 37,
   "metadata": {},
   "outputs": [
    {
     "name": "stdout",
     "output_type": "stream",
     "text": [
      "['h', 'z', 'p', 'n', 'm', 'r', 'f', 'd', 'a', 'e', 'u', 'i', 'q', 'k', 'x', 'g', 'y', '.', 'l', 'v', 'o', 't', 'c', 'w', 'b', 'j', 's']\n",
      "27\n"
     ]
    }
   ],
   "source": [
    "unique_characters = list(set(\"\".join(names)))\n",
    "total_unique_characters = len(unique_characters)\n",
    "print(unique_characters)\n",
    "print(total_unique_characters)"
   ]
  },
  {
   "cell_type": "code",
   "execution_count": 39,
   "metadata": {},
   "outputs": [
    {
     "data": {
      "text/plain": [
       "{'h': 0,\n",
       " 'z': 1,\n",
       " 'p': 2,\n",
       " 'n': 3,\n",
       " 'm': 4,\n",
       " 'r': 5,\n",
       " 'f': 6,\n",
       " 'd': 7,\n",
       " 'a': 8,\n",
       " 'e': 9,\n",
       " 'u': 10,\n",
       " 'i': 11,\n",
       " 'q': 12,\n",
       " 'k': 13,\n",
       " 'x': 14,\n",
       " 'g': 15,\n",
       " 'y': 16,\n",
       " '.': 17,\n",
       " 'l': 18,\n",
       " 'v': 19,\n",
       " 'o': 20,\n",
       " 't': 21,\n",
       " 'c': 22,\n",
       " 'w': 23,\n",
       " 'b': 24,\n",
       " 'j': 25,\n",
       " 's': 26}"
      ]
     },
     "execution_count": 39,
     "metadata": {},
     "output_type": "execute_result"
    }
   ],
   "source": [
    "stoi = {char: idx for idx, char in enumerate(unique_characters)}\n",
    "stoi"
   ]
  },
  {
   "cell_type": "code",
   "execution_count": 40,
   "metadata": {},
   "outputs": [
    {
     "data": {
      "text/plain": [
       "torch.Size([27, 27])"
      ]
     },
     "execution_count": 40,
     "metadata": {},
     "output_type": "execute_result"
    }
   ],
   "source": [
    "torch.random.manual_seed(69)\n",
    "\n",
    "N = torch.zeros(total_unique_characters, total_unique_characters)\n",
    "N.shape"
   ]
  },
  {
   "cell_type": "code",
   "execution_count": 42,
   "metadata": {},
   "outputs": [],
   "source": [
    "for (gram1, gram2), count in bigrams.items():\n",
    "    N[stoi[gram1], stoi[gram2]] = count"
   ]
  },
  {
   "cell_type": "code",
   "execution_count": 48,
   "metadata": {},
   "outputs": [
    {
     "data": {
      "text/plain": [
       "torch.Size([1, 27])"
      ]
     },
     "execution_count": 48,
     "metadata": {},
     "output_type": "execute_result"
    }
   ],
   "source": [
    "N.sum(dim=0, keepdim=True).shape"
   ]
  },
  {
   "cell_type": "code",
   "execution_count": null,
   "metadata": {},
   "outputs": [],
   "source": []
  }
 ],
 "metadata": {
  "kernelspec": {
   "display_name": ".venv",
   "language": "python",
   "name": "python3"
  },
  "language_info": {
   "codemirror_mode": {
    "name": "ipython",
    "version": 3
   },
   "file_extension": ".py",
   "mimetype": "text/x-python",
   "name": "python",
   "nbconvert_exporter": "python",
   "pygments_lexer": "ipython3",
   "version": "3.10.11"
  }
 },
 "nbformat": 4,
 "nbformat_minor": 2
}

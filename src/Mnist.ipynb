{
 "cells": [
  {
   "cell_type": "code",
   "execution_count": 1,
   "metadata": {},
   "outputs": [],
   "source": [
    "from typing import List, Dict, Any\n",
    "import pandas as pd\n",
    "import numpy as np\n",
    "import os"
   ]
  },
  {
   "cell_type": "code",
   "execution_count": 17,
   "metadata": {},
   "outputs": [],
   "source": [
    "def MSELoss(y_true: np.ndarray, y_pred: np.ndarray) -> np.float32:\n",
    "    y_true = y_true.flatten()\n",
    "    y_pred = y_pred.flatten()\n",
    "    return (1/len(y_true)) * np.sum((y_pred - y_true) ** 2)\n",
    "\n",
    "def MAELoss(y_true: np.ndarray, y_pred: np.ndarray) -> np.float32:\n",
    "    y_true = y_true.flatten()\n",
    "    y_pred = y_pred.flatten()\n",
    "    return (1/len(y_true)) * np.sum(np.abs((y_pred - y_true)))\n",
    "\n",
    "def accuracy_with_thresholding(y_true: np.ndarray, y_pred: np.ndarray, threshold = 0.5):\n",
    "    y_true = y_true.flatten()\n",
    "    y_pred = y_pred.flatten()\n",
    "    return np.sum(\n",
    "        y_true == (y_pred > threshold).astype(np.int32)\n",
    "    ) / len(y_true)\n",
    "    \n",
    "def sigmoid(z):\n",
    "    return 1/(1 + np.exp(-z))\n"
   ]
  },
  {
   "cell_type": "code",
   "execution_count": 16,
   "metadata": {},
   "outputs": [],
   "source": [
    "import torch\n",
    "import numpy as np"
   ]
  },
  {
   "cell_type": "code",
   "execution_count": 23,
   "metadata": {},
   "outputs": [],
   "source": [
    "# Dataset\n",
    "\n",
    "# Dataloader\n",
    "\n",
    "# Model\n",
    "\n",
    "# Traing-Valid Loop\n",
    "\n",
    "# Test\n"
   ]
  },
  {
   "cell_type": "code",
   "execution_count": 32,
   "metadata": {},
   "outputs": [],
   "source": [
    "import torch\n",
    "from torch.utils.data import Dataset, DataLoader\n",
    "import pandas as pd\n",
    "\n"
   ]
  },
  {
   "cell_type": "code",
   "execution_count": 41,
   "metadata": {},
   "outputs": [],
   "source": [
    "train_dataset = ..."
   ]
  },
  {
   "cell_type": "code",
   "execution_count": 42,
   "metadata": {},
   "outputs": [],
   "source": [
    "val_dataset = ..."
   ]
  },
  {
   "cell_type": "code",
   "execution_count": 43,
   "metadata": {},
   "outputs": [
    {
     "data": {
      "text/plain": [
       "(605, 107)"
      ]
     },
     "execution_count": 43,
     "metadata": {},
     "output_type": "execute_result"
    }
   ],
   "source": [
    "len(train_dataset), len(val_dataset)"
   ]
  },
  {
   "cell_type": "code",
   "execution_count": 44,
   "metadata": {},
   "outputs": [],
   "source": [
    "train_data_loader = DataLoader(train_dataset, batch_size=64, shuffle=True)\n",
    "val_data_loader = DataLoader(val_dataset, batch_size=64, shuffle=False)"
   ]
  },
  {
   "cell_type": "code",
   "execution_count": 89,
   "metadata": {},
   "outputs": [],
   "source": [
    "class TitanicModel(torch.nn.Module):\n",
    "    def __init__(self):\n",
    "        super().__init__()\n",
    "        self.linear1 = torch.nn.Linear(7, 3)\n",
    "        self.linear2 = torch.nn.Linear(3, 1)\n",
    "        \n",
    "    def forward(self, x):\n",
    "        x = torch.relu(self.linear1(x))\n",
    "        return torch.sigmoid(self.linear2(x))"
   ]
  },
  {
   "cell_type": "code",
   "execution_count": 124,
   "metadata": {},
   "outputs": [],
   "source": [
    "# Training Loop\n",
    "# Loss, Optimizer, epochs, learning rate, seed\n",
    "\n",
    "torch.manual_seed(420)\n",
    "model = TitanicModel()\n",
    "learning_rate = 0.001\n",
    "epochs = 1000\n",
    "loss = torch.nn.BCELoss()\n",
    "optimizer = torch.optim.Adam(model.parameters(), lr=learning_rate)"
   ]
  },
  {
   "cell_type": "code",
   "execution_count": 125,
   "metadata": {},
   "outputs": [
    {
     "name": "stdout",
     "output_type": "stream",
     "text": [
      "Epoch 0 - Training Loss: 0.697982907295227, Validation Loss: 0.691847026348114, Validation Accuracy: 0.5250726744186047\n",
      "Epoch 100 - Training Loss: 0.4412415325641632, Validation Loss: 0.48213520646095276, Validation Accuracy: 0.7857921511627908\n",
      "Epoch 200 - Training Loss: 0.6471406817436218, Validation Loss: 0.4223429560661316, Validation Accuracy: 0.7779796511627908\n",
      "Epoch 300 - Training Loss: 0.48396843671798706, Validation Loss: 0.4120427966117859, Validation Accuracy: 0.8052325581395349\n",
      "Epoch 400 - Training Loss: 0.5473805665969849, Validation Loss: 0.4103240966796875, Validation Accuracy: 0.7974200581395349\n",
      "Epoch 500 - Training Loss: 0.32120728492736816, Validation Loss: 0.4096084535121918, Validation Accuracy: 0.7974200581395349\n",
      "Epoch 600 - Training Loss: 0.45553088188171387, Validation Loss: 0.40892738103866577, Validation Accuracy: 0.7974200581395349\n",
      "Epoch 700 - Training Loss: 0.37324172258377075, Validation Loss: 0.40961772203445435, Validation Accuracy: 0.7974200581395349\n",
      "Epoch 800 - Training Loss: 0.368507444858551, Validation Loss: 0.409268856048584, Validation Accuracy: 0.8090479651162791\n",
      "Epoch 900 - Training Loss: 0.4546428620815277, Validation Loss: 0.40982645750045776, Validation Accuracy: 0.7974200581395349\n"
     ]
    }
   ],
   "source": [
    "# model.to('cuda')\n",
    "max_accuracy = 0\n",
    "for i in range(epochs):\n",
    "    for idx, (X_batch, y_batch) in enumerate(train_data_loader):\n",
    "        # X_batch, y_batch = X_batch.to('cuda'), y_batch.to('cuda')\n",
    "        model.train()\n",
    "        \n",
    "        optimizer.zero_grad()\n",
    "        y_pred = model(X_batch)\n",
    "        # y_pred = y_pred.to('cpu')\n",
    "        # y_batch = y_batch.to('cpu')\n",
    "        loss_value = loss(y_pred, y_batch)\n",
    "        loss_value.backward()\n",
    "        optimizer.step()\n",
    "        \n",
    "    # Validate\n",
    "    if i % 100 == 0:\n",
    "        model.eval()\n",
    "        with torch.no_grad():\n",
    "            val_loss = 0\n",
    "            val_accuracy = 0\n",
    "            for X_val, y_val in val_data_loader:\n",
    "                y_pred = model(X_val)\n",
    "                val_loss += loss(y_pred, y_val)\n",
    "                val_accuracy += accuracy_with_thresholding(y_val.numpy(), y_pred.numpy())\n",
    "            \n",
    "            val_accuracy /= len(val_data_loader)\n",
    "            val_loss /= len(val_data_loader)\n",
    "            \n",
    "            if val_accuracy > max_accuracy:\n",
    "                max_accuracy = val_accuracy\n",
    "            \n",
    "            print(f\"Epoch {i} - Training Loss: {loss_value.item()}, Validation Loss: {val_loss.item()}, Validation Accuracy: {val_accuracy}\")"
   ]
  },
  {
   "cell_type": "code",
   "execution_count": 126,
   "metadata": {},
   "outputs": [
    {
     "data": {
      "text/plain": [
       "np.float64(0.8090479651162791)"
      ]
     },
     "execution_count": 126,
     "metadata": {},
     "output_type": "execute_result"
    }
   ],
   "source": [
    "max_accuracy"
   ]
  },
  {
   "cell_type": "code",
   "execution_count": null,
   "metadata": {},
   "outputs": [],
   "source": []
  }
 ],
 "metadata": {
  "kernelspec": {
   "display_name": ".venv",
   "language": "python",
   "name": "python3"
  },
  "language_info": {
   "codemirror_mode": {
    "name": "ipython",
    "version": 3
   },
   "file_extension": ".py",
   "mimetype": "text/x-python",
   "name": "python",
   "nbconvert_exporter": "python",
   "pygments_lexer": "ipython3",
   "version": "3.10.11"
  }
 },
 "nbformat": 4,
 "nbformat_minor": 2
}
